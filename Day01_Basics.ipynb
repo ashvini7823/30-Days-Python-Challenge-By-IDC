{
 "cells": [
  {
   "cell_type": "markdown",
   "id": "3a7ace26",
   "metadata": {},
   "source": [
    "# 🐍 Day 1: Python Overview & Basic Syntax"
   ]
  },
  {
   "cell_type": "markdown",
   "id": "f6ef5718",
   "metadata": {},
   "source": [
    "Welcome to **Day 1** of the *30 Days of Python Challenge*!  \n",
    "In this notebook, we will cover the basics to get started with Python programming.\n",
    "\n",
    "### 📌 Topic:\n",
    "- Python Overview\n",
    "- Installation & IDE Setup\n",
    "- Basic Syntax\n",
    "\n",
    "### 🎯 Challenge:\n",
    "> Write a program that prints `\"Hello, World!\"` followed by your name.\n"
   ]
  },
  {
   "cell_type": "markdown",
   "id": "8acd69c8",
   "metadata": {},
   "source": [
    "## 📖 Python Overview\n",
    "\n",
    "Python is a powerful, easy-to-learn, and versatile programming language used for:\n",
    "- Web Development (e.g., Django, Flask)\n",
    "- Data Science (e.g., pandas, NumPy, scikit-learn)\n",
    "- Automation and Scripting\n",
    "- Machine Learning and AI\n",
    "\n",
    "It's known for its clean syntax and readability, making it beginner-friendly.\n"
   ]
  },
  {
   "cell_type": "markdown",
   "id": "8b3a4a83",
   "metadata": {},
   "source": [
    "## ⚙️ Installation & IDE Setup\n",
    "\n",
    "To start coding in Python:\n",
    "\n",
    "1. **Install Python** from [python.org](https://www.python.org/)\n",
    "2. **Choose an IDE**:\n",
    "   - VS Code (recommended)\n",
    "   - PyCharm\n",
    "   - Jupyter Notebook\n",
    "\n",
    "Once installed, open your IDE and start coding!\n"
   ]
  },
  {
   "cell_type": "markdown",
   "id": "a1bbe0cc",
   "metadata": {},
   "source": [
    "## ✨ Python Basic Syntax\n",
    "\n",
    "- Python uses indentation to define code blocks\n",
    "- Statements end with a newline (no need for semicolons)\n",
    "- Variables are dynamically typed (no need to declare data types)\n"
   ]
  },
  {
   "cell_type": "code",
   "execution_count": null,
   "id": "d9bdcb0d",
   "metadata": {},
   "outputs": [],
   "source": [
    "# ✅ Day 1 Challenge: Print \"Hello, World!\" and your name\n",
    "\n",
    "name = input(\"Enter your name: \")\n",
    "print(\"Hello, World!\")\n",
    "print(name)\n"
   ]
  },
  {
   "cell_type": "markdown",
   "id": "7e7b8994",
   "metadata": {},
   "source": [
    "### 🔍 Output Explanation\n",
    "\n",
    "When you run the above code:\n",
    "\n",
    "1. It asks the user to enter a name using `input()`\n",
    "2. It prints `\"Hello, World!\"`\n",
    "3. Then prints the name entered by the user\n",
    "\n",
    "#### 🧪 Sample Output:\n",
    "```\n",
    "Enter your name: Ashvini\n",
    "Hello, World!\n",
    "Ashvini\n",
    "```\n"
   ]
  }
 ],
 "metadata": {},
 "nbformat": 4,
 "nbformat_minor": 5
}
